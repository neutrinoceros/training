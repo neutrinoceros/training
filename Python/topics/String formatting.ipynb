{
 "cells": [
  {
   "cell_type": "markdown",
   "id": "e3c2a89a-6e43-4583-a447-4ef425635e4c",
   "metadata": {},
   "source": [
    "## String formatting"
   ]
  },
  {
   "cell_type": "markdown",
   "id": "ee15c5c0-191f-4198-879a-77affaa851b0",
   "metadata": {},
   "source": [
    "### basic methods"
   ]
  },
  {
   "cell_type": "code",
   "execution_count": null,
   "id": "de73e8b9-6421-439a-86f0-634d17197ac3",
   "metadata": {},
   "outputs": [],
   "source": [
    "# let's define some data\n",
    "name = \"Sir Lancelot\"\n",
    "age = 31\n",
    "quest = \"to find the Holy Grail\""
   ]
  },
  {
   "cell_type": "code",
   "execution_count": null,
   "id": "37c230ba-9b6e-4970-8e23-887e5c0d675c",
   "metadata": {},
   "outputs": [],
   "source": [
    "# BAD: str concatenation (works, but slow and neither flexible nor readable, avoid this in production\n",
    "print(name + \" is aged \" + str(age) + \", their quest is \" + quest)"
   ]
  },
  {
   "cell_type": "code",
   "execution_count": null,
   "id": "fdf3ce7e-457c-4ba8-a1e9-825250bd0aae",
   "metadata": {},
   "outputs": [],
   "source": [
    "# OLD STYLE\n",
    "print(\"%s's is aged %d, their quest is %s\" % (name, age, quest))"
   ]
  },
  {
   "cell_type": "code",
   "execution_count": null,
   "id": "61e764e0-4ba6-4b02-b525-03e7a9b3e91e",
   "metadata": {},
   "outputs": [],
   "source": [
    "# str.format\n",
    "### REQUIRES PYTHON >= 2.x, where x = who cares ?\n",
    "print(\"{}'s is aged {}, their quest is {}\".format(name, age, quest))"
   ]
  },
  {
   "cell_type": "code",
   "execution_count": null,
   "id": "7a7c3cd2-9a5b-4d64-95a1-bc72530777af",
   "metadata": {},
   "outputs": [],
   "source": [
    "# fstrings\n",
    "### REQUIRES PYTHON >= 3.6\n",
    "print(f\"{name}'s is aged {age}, their quest is {quest}\")"
   ]
  },
  {
   "cell_type": "code",
   "execution_count": null,
   "id": "a80bae8a-7704-4d32-9554-c8631624ecac",
   "metadata": {},
   "outputs": [],
   "source": [
    "# fstrings accept expressions, not just constants !\n",
    "print(f\"{name.upper()} is really aged {age * 7} in dog years !\")"
   ]
  },
  {
   "cell_type": "markdown",
   "id": "89117bd4-b41f-436e-9414-956ed29754f7",
   "metadata": {},
   "source": [
    "### advanced formatting with fstrings\n",
    "these are also doable using `%` or `str.format` but `fstrings` look nicer and are now old enough that you can reasonably expect them to be usable (almost) everywhere"
   ]
  },
  {
   "cell_type": "code",
   "execution_count": null,
   "id": "5a7cef8a-5ba2-424d-88ef-9e57ba13a370",
   "metadata": {},
   "outputs": [],
   "source": [
    "## printing numbers with arbitrary precision\n",
    "PI = 3.141592653589793238462643383279502884197169399375105820974944\n",
    "\n",
    "print(f\"'float' notation (default precision):      {PI:f}\")\n",
    "print(f\"'float' notation (arbitrary precision):    {PI:.14f}\")\n",
    "print(f\"'exponent' notation (default precision):   {PI:e}\")\n",
    "print(f\"'exponent' notation (arbitrary precision): {PI:.16e}\")\n",
    "print(f\"'exponent' notation (big E):               {PI:E}\")\n",
    "print(f\"'mixed' notation (small number -> float):  {PI:g}\")\n",
    "print(f\"'mixed' notation (large number -> exp):    {PI*1e6:g}\")"
   ]
  },
  {
   "cell_type": "markdown",
   "id": "7bea94ed-6150-4a11-861f-c6ea4c8d824d",
   "metadata": {},
   "source": [
    "### strings within strings"
   ]
  },
  {
   "cell_type": "code",
   "execution_count": null,
   "id": "371f6780-bd43-4403-8220-0808d300186d",
   "metadata": {},
   "outputs": [],
   "source": [
    "## BAD\n",
    "message_de_paix = \"coucou\"\n",
    "print(\n",
    "    \"Je vous ordonne de vous rendre \"\n",
    "    \"chez les visigoths afin de leur transmettre \"\n",
    "    f\"le message de paix suivant:\\n'{message_de_paix}'\"  # using ' in \"\"\n",
    ")"
   ]
  },
  {
   "cell_type": "code",
   "execution_count": null,
   "id": "0cd71b55-bb2c-4ad1-9f94-eeb7681f98c5",
   "metadata": {},
   "outputs": [],
   "source": [
    "## BAD\n",
    "message_de_paix = \"coucou\"\n",
    "print(\n",
    "    \"Je vous ordonne de vous rendre \"\n",
    "    \"chez les visigoths afin de leur transmettre \"\n",
    "    f\"le message de paix suivant:\\n{message_de_paix!r}\"  # 'raw' printing\n",
    ")"
   ]
  },
  {
   "cell_type": "code",
   "execution_count": null,
   "id": "6dade9bc-edef-4086-b68c-1e8da39238e7",
   "metadata": {},
   "outputs": [],
   "source": [
    "## the result is identical to what you see in the interpreter by calling just the expression:\n",
    "message_de_paix"
   ]
  },
  {
   "cell_type": "code",
   "execution_count": null,
   "id": "4a4b0a22-cdac-4d63-a8b6-06b611b64b21",
   "metadata": {},
   "outputs": [],
   "source": [
    "## but differes from what you get by \"printing\" it with no formatting instructions\n",
    "print(message_de_paix)"
   ]
  },
  {
   "cell_type": "markdown",
   "id": "46577a9d-6577-4bda-ae4c-47d51b9a0e17",
   "metadata": {},
   "source": [
    "## \"debug\" fstrings\n",
    "new in Python 3.8"
   ]
  },
  {
   "cell_type": "code",
   "execution_count": null,
   "id": "4e3ce234-34f2-4767-9ab0-69fbd6b2b6d5",
   "metadata": {},
   "outputs": [],
   "source": [
    "### in 3.6 <= Python < 3.8\n",
    "print(f\"name = {name!r}\")"
   ]
  },
  {
   "cell_type": "code",
   "execution_count": null,
   "id": "218a8aba-9a39-4e3b-af8e-0754bbb3cc7e",
   "metadata": {},
   "outputs": [],
   "source": [
    "### REQUIRES PYTHON >= 3.8\n",
    "print(f\"{name = }\")"
   ]
  }
 ],
 "metadata": {
  "kernelspec": {
   "display_name": "Python 3 (ipykernel)",
   "language": "python",
   "name": "python3"
  },
  "language_info": {
   "codemirror_mode": {
    "name": "ipython",
    "version": 3
   },
   "file_extension": ".py",
   "mimetype": "text/x-python",
   "name": "python",
   "nbconvert_exporter": "python",
   "pygments_lexer": "ipython3",
   "version": "3.10.0"
  }
 },
 "nbformat": 4,
 "nbformat_minor": 5
}
