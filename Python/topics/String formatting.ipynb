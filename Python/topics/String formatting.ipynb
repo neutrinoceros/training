{
 "cells": [
  {
   "cell_type": "markdown",
   "id": "e3c2a89a-6e43-4583-a447-4ef425635e4c",
   "metadata": {},
   "source": [
    "## String formatting"
   ]
  },
  {
   "cell_type": "markdown",
   "id": "ee15c5c0-191f-4198-879a-77affaa851b0",
   "metadata": {},
   "source": [
    "### basic methods"
   ]
  },
  {
   "cell_type": "code",
   "execution_count": 5,
   "id": "de73e8b9-6421-439a-86f0-634d17197ac3",
   "metadata": {},
   "outputs": [],
   "source": [
    "name = \"Sir Lancelot\"\n",
    "age = 31\n",
    "quest = \"to find the Holy Grail\""
   ]
  },
  {
   "cell_type": "code",
   "execution_count": 6,
   "id": "fdf3ce7e-457c-4ba8-a1e9-825250bd0aae",
   "metadata": {},
   "outputs": [
    {
     "name": "stdout",
     "output_type": "stream",
     "text": [
      "Sir Lancelot's is aged 31, their quest is to find the Holy Grail\n"
     ]
    }
   ],
   "source": [
    "# OLD STYLE\n",
    "print(\"%s's is aged %d, their quest is %s\" % (name, age, quest))"
   ]
  },
  {
   "cell_type": "code",
   "execution_count": 8,
   "id": "61e764e0-4ba6-4b02-b525-03e7a9b3e91e",
   "metadata": {},
   "outputs": [
    {
     "name": "stdout",
     "output_type": "stream",
     "text": [
      "Sir Lancelot's is aged 31, their quest is to find the Holy Grail\n"
     ]
    }
   ],
   "source": [
    "# str.format\n",
    "### REQUIRES PYTHON >= 2.x, where x = who cares ?\n",
    "print(\"{}'s is aged {}, their quest is {}\".format(name, age, quest))"
   ]
  },
  {
   "cell_type": "code",
   "execution_count": 9,
   "id": "7a7c3cd2-9a5b-4d64-95a1-bc72530777af",
   "metadata": {},
   "outputs": [
    {
     "name": "stdout",
     "output_type": "stream",
     "text": [
      "Sir Lancelot's is aged 31, their quest is to find the Holy Grail\n"
     ]
    }
   ],
   "source": [
    "# fstrings\n",
    "### REQUIRES PYTHON >= 3.6\n",
    "print(f\"{name}'s is aged {age}, their quest is {quest}\")"
   ]
  },
  {
   "cell_type": "markdown",
   "id": "89117bd4-b41f-436e-9414-956ed29754f7",
   "metadata": {},
   "source": [
    "### advanced formatting with fstrings\n",
    "these are also doable using `%` or `str.format` but `fstrings` look nicer and are now old enough that you can reasonably expect them to be usable (almost) everywhere"
   ]
  },
  {
   "cell_type": "code",
   "execution_count": 32,
   "id": "5a7cef8a-5ba2-424d-88ef-9e57ba13a370",
   "metadata": {},
   "outputs": [
    {
     "name": "stdout",
     "output_type": "stream",
     "text": [
      "'float' notation (default precision):      3.141593\n",
      "'float' notation (arbitrary precision):    3.14159265358979\n",
      "'exponent' notation (default precision):   3.141593e+00\n",
      "'exponent' notation (arbitrary precision): 3.1415926535897931e+00\n",
      "'exponent' notation (big E):               3.141593E+00\n",
      "'mixed' notation (small number -> float):  3.14159\n",
      "'mixed' notation (large number -> exp):    3.14159e+06\n"
     ]
    }
   ],
   "source": [
    "## printing numbers with arbitrary precision\n",
    "PI = 3.141592653589793238462643383279502884197169399375105820974944\n",
    "\n",
    "print(f\"'float' notation (default precision):      {PI:f}\")\n",
    "print(f\"'float' notation (arbitrary precision):    {PI:.14f}\")\n",
    "print(f\"'exponent' notation (default precision):   {PI:e}\")\n",
    "print(f\"'exponent' notation (arbitrary precision): {PI:.16e}\")\n",
    "print(f\"'exponent' notation (big E):               {PI:E}\")\n",
    "print(f\"'mixed' notation (small number -> float):  {PI:g}\")\n",
    "print(f\"'mixed' notation (large number -> exp):    {PI*1e6:g}\")"
   ]
  },
  {
   "cell_type": "markdown",
   "id": "7bea94ed-6150-4a11-861f-c6ea4c8d824d",
   "metadata": {},
   "source": [
    "### strings within strings"
   ]
  },
  {
   "cell_type": "code",
   "execution_count": 35,
   "id": "371f6780-bd43-4403-8220-0808d300186d",
   "metadata": {},
   "outputs": [
    {
     "name": "stdout",
     "output_type": "stream",
     "text": [
      "Je vous ordonne de vous rendre chez les visigoths afin de leur transmettre le message de paix suivant:\n",
      "'coucou'\n"
     ]
    }
   ],
   "source": [
    "## BAD\n",
    "message_de_paix = \"coucou\"\n",
    "print(\n",
    "    \"Je vous ordonne de vous rendre \"\n",
    "    \"chez les visigoths afin de leur transmettre \"\n",
    "    f\"le message de paix suivant:\\n'{message_de_paix}'\"  # using ' in \"\"\n",
    ")"
   ]
  },
  {
   "cell_type": "code",
   "execution_count": 38,
   "id": "0cd71b55-bb2c-4ad1-9f94-eeb7681f98c5",
   "metadata": {},
   "outputs": [
    {
     "name": "stdout",
     "output_type": "stream",
     "text": [
      "Je vous ordonne de vous rendre chez les visigoths afin de leur transmettre le message de paix suivant:\n",
      "'coucou'\n"
     ]
    }
   ],
   "source": [
    "## BAD\n",
    "message_de_paix = \"coucou\"\n",
    "print(\n",
    "    \"Je vous ordonne de vous rendre \"\n",
    "    \"chez les visigoths afin de leur transmettre \"\n",
    "    f\"le message de paix suivant:\\n{message_de_paix!r}\"  # 'raw' printing\n",
    ")"
   ]
  },
  {
   "cell_type": "code",
   "execution_count": 41,
   "id": "6dade9bc-edef-4086-b68c-1e8da39238e7",
   "metadata": {},
   "outputs": [
    {
     "data": {
      "text/plain": [
       "'coucou'"
      ]
     },
     "execution_count": 41,
     "metadata": {},
     "output_type": "execute_result"
    }
   ],
   "source": [
    "## the result is identical to what you see in the interpreter by calling just the expression:\n",
    "message_de_paix"
   ]
  },
  {
   "cell_type": "code",
   "execution_count": 42,
   "id": "4a4b0a22-cdac-4d63-a8b6-06b611b64b21",
   "metadata": {},
   "outputs": [
    {
     "name": "stdout",
     "output_type": "stream",
     "text": [
      "coucou\n"
     ]
    }
   ],
   "source": [
    "## but differes from what you get by \"printing\" it with no formatting instructions\n",
    "print(message_de_paix)"
   ]
  },
  {
   "cell_type": "code",
   "execution_count": null,
   "id": "704dc75e-9dfe-481c-9ab2-e1ec1447f255",
   "metadata": {},
   "outputs": [],
   "source": []
  }
 ],
 "metadata": {
  "kernelspec": {
   "display_name": "Python 3 (ipykernel)",
   "language": "python",
   "name": "python3"
  },
  "language_info": {
   "codemirror_mode": {
    "name": "ipython",
    "version": 3
   },
   "file_extension": ".py",
   "mimetype": "text/x-python",
   "name": "python",
   "nbconvert_exporter": "python",
   "pygments_lexer": "ipython3",
   "version": "3.10.0"
  }
 },
 "nbformat": 4,
 "nbformat_minor": 5
}
