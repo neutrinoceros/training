{
 "cells": [
  {
   "cell_type": "markdown",
   "id": "c77ffc44-633c-4bb8-9c69-c8b274ca0393",
   "metadata": {},
   "source": [
    "## Testing with the `assert` statement"
   ]
  },
  {
   "cell_type": "code",
   "execution_count": null,
   "id": "f2068316-5a87-483e-ba7c-343e38b8af1f",
   "metadata": {},
   "outputs": [],
   "source": []
  }
 ],
 "metadata": {
  "kernelspec": {
   "display_name": "Python 3 (ipykernel)",
   "language": "python",
   "name": "python3"
  },
  "language_info": {
   "codemirror_mode": {
    "name": "ipython",
    "version": 3
   },
   "file_extension": ".py",
   "mimetype": "text/x-python",
   "name": "python",
   "nbconvert_exporter": "python",
   "pygments_lexer": "ipython3",
   "version": "3.10.0"
  }
 },
 "nbformat": 4,
 "nbformat_minor": 5
}
