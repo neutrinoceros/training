{
 "cells": [
  {
   "cell_type": "markdown",
   "id": "17835415-1dd1-45ae-92db-bbe210aad73c",
   "metadata": {},
   "source": [
    "## Pythonic iteration"
   ]
  },
  {
   "cell_type": "code",
   "execution_count": 2,
   "id": "3886e2ae-aa67-4132-8723-ca825289b8a5",
   "metadata": {},
   "outputs": [],
   "source": [
    "astronauts = [\n",
    "    \"Neil Armstrong\",\n",
    "    \"Chris Hatfield\",\n",
    "    \"Buzz Lightyear\",\n",
    "]"
   ]
  },
  {
   "cell_type": "markdown",
   "id": "57e3ea03-23a0-481f-b9c8-bdf8dac43eb3",
   "metadata": {},
   "source": [
    "### Iterate over a list"
   ]
  },
  {
   "cell_type": "code",
   "execution_count": 33,
   "id": "03b7e284-2afd-4faa-a05c-8c34886178ff",
   "metadata": {},
   "outputs": [
    {
     "name": "stdout",
     "output_type": "stream",
     "text": [
      "Neil Armstrong\n",
      "Buzz Aldrin\n",
      "Buzz Lightyear\n"
     ]
    }
   ],
   "source": [
    "# BAD\n",
    "for i in range(len(astronauts)):\n",
    "    print(astronauts[i])"
   ]
  },
  {
   "cell_type": "code",
   "execution_count": 34,
   "id": "07cde856-649a-4bd6-bcaf-52bcddd34719",
   "metadata": {},
   "outputs": [
    {
     "name": "stdout",
     "output_type": "stream",
     "text": [
      "Neil Armstrong\n",
      "Buzz Aldrin\n",
      "Buzz Lightyear\n"
     ]
    }
   ],
   "source": [
    "# GOOD\n",
    "for astronaut in astronauts:\n",
    "    print(astronaut)"
   ]
  },
  {
   "cell_type": "markdown",
   "id": "b788021e-b270-4b9a-b170-c624f6c0e964",
   "metadata": {},
   "source": [
    "### Iterate over a list, *and* an index"
   ]
  },
  {
   "cell_type": "code",
   "execution_count": 6,
   "id": "4542f8be-3abd-48d4-ae1b-92baa49bdcc8",
   "metadata": {},
   "outputs": [
    {
     "name": "stdout",
     "output_type": "stream",
     "text": [
      "1. Neil Armstrong\n",
      "2. Buzz Aldrin\n",
      "3. Buzz Lightyear\n"
     ]
    }
   ],
   "source": [
    "# BAD\n",
    "for i in range(len(astronauts)):\n",
    "    print(f\"{i+1}. {astronauts[i]}\")"
   ]
  },
  {
   "cell_type": "code",
   "execution_count": 7,
   "id": "c86105a8-44ce-4428-a919-7981550365d6",
   "metadata": {},
   "outputs": [
    {
     "name": "stdout",
     "output_type": "stream",
     "text": [
      "1. Neil Armstrong\n",
      "2. Buzz Aldrin\n",
      "3. Buzz Lightyear\n"
     ]
    }
   ],
   "source": [
    "# BETTER\n",
    "for i, astronaut in enumerate(astronauts):\n",
    "    print(f\"{i+1}. {astronaut}\")"
   ]
  },
  {
   "cell_type": "code",
   "execution_count": 8,
   "id": "9103fe30-909c-43e3-8623-fa4f8f96de7e",
   "metadata": {},
   "outputs": [
    {
     "name": "stdout",
     "output_type": "stream",
     "text": [
      "1. Neil Armstrong\n",
      "2. Buzz Aldrin\n",
      "3. Buzz Lightyear\n"
     ]
    }
   ],
   "source": [
    "# BEST\n",
    "for i, astronaut in enumerate(astronauts, start=1):\n",
    "    print(f\"{i}. {astronaut}\")"
   ]
  },
  {
   "cell_type": "markdown",
   "id": "5b10c65b-6076-40f7-81a9-c3362ee82b86",
   "metadata": {},
   "source": [
    "### Iterate over several lists at once"
   ]
  },
  {
   "cell_type": "code",
   "execution_count": 9,
   "id": "56fe8b65-e0f0-4677-b4dd-e3ddf99dd4e5",
   "metadata": {},
   "outputs": [],
   "source": [
    "presidents = [\n",
    "    \"Richard Nixon\",\n",
    "    \"Barack Obama\",\n",
    "    \"Emperor Zurg\",\n",
    "]"
   ]
  },
  {
   "cell_type": "code",
   "execution_count": 15,
   "id": "e401143c-034c-4b09-94ec-e926587aa6eb",
   "metadata": {},
   "outputs": [
    {
     "name": "stdout",
     "output_type": "stream",
     "text": [
      "Neil Armstrong served under Richard Nixon.\n",
      "Buzz Aldrin served under Barack Obama.\n",
      "Buzz Lightyear served under Emperor Zurg.\n"
     ]
    }
   ],
   "source": [
    "# BAD\n",
    "L1 = len(astronauts)\n",
    "L2 = len(presidents)\n",
    "\n",
    "for i in range(min(L1, L2)):\n",
    "    print(f\"{astronauts[i]} served under {presidents[i]}.\")"
   ]
  },
  {
   "cell_type": "code",
   "execution_count": 16,
   "id": "bea85578-1c16-4f71-9258-db26bd5e913c",
   "metadata": {},
   "outputs": [
    {
     "name": "stdout",
     "output_type": "stream",
     "text": [
      "Neil Armstrong served under Richard Nixon.\n",
      "Buzz Aldrin served under Barack Obama.\n",
      "Buzz Lightyear served under Emperor Zurg.\n"
     ]
    }
   ],
   "source": [
    "# GOOD\n",
    "for astronaut, president in zip(astronauts, presidents):\n",
    "    print(f\"{astronaut} served under {president}.\")"
   ]
  },
  {
   "cell_type": "markdown",
   "id": "abc65c0d-e57b-40bf-861f-ddafbfbceb74",
   "metadata": {},
   "source": [
    "## extra: strict zip\n",
    "REQUIRES PYTHON 3.10"
   ]
  },
  {
   "cell_type": "code",
   "execution_count": 17,
   "id": "133defaa-f3f5-4de1-b335-ce5b6e335c17",
   "metadata": {},
   "outputs": [],
   "source": [
    "presidents.append(\"Donald Trump\")"
   ]
  },
  {
   "cell_type": "code",
   "execution_count": 20,
   "id": "22050879-6221-49cf-8587-edf568787d70",
   "metadata": {},
   "outputs": [
    {
     "name": "stdout",
     "output_type": "stream",
     "text": [
      "Neil Armstrong served under Richard Nixon.\n",
      "Buzz Aldrin served under Barack Obama.\n",
      "Buzz Lightyear served under Emperor Zurg.\n"
     ]
    }
   ],
   "source": [
    "# in Python <= 3.9, you can't easily express that it would be an error for our lists\n",
    "# to have different sizes, and zip is going to silently stop when the shorter one is consumed\n",
    "for astronaut, president in zip(astronauts, presidents):\n",
    "    print(f\"{astronaut} served under {president}.\")"
   ]
  },
  {
   "cell_type": "code",
   "execution_count": 22,
   "id": "bcd9dd7f-dfd5-41ca-8633-9db66373c6b5",
   "metadata": {},
   "outputs": [
    {
     "name": "stdout",
     "output_type": "stream",
     "text": [
      "Neil Armstrong served under Richard Nixon.\n",
      "Buzz Aldrin served under Barack Obama.\n",
      "Buzz Lightyear served under Emperor Zurg.\n"
     ]
    },
    {
     "ename": "ValueError",
     "evalue": "zip() argument 2 is longer than argument 1",
     "output_type": "error",
     "traceback": [
      "\u001b[0;31m---------------------------------------------------------------------------\u001b[0m",
      "\u001b[0;31mValueError\u001b[0m                                Traceback (most recent call last)",
      "\u001b[0;32m/var/folders/xh/yfmp7l9n3x50ln2yvrndt7c801pbkm/T/ipykernel_25767/3136925027.py\u001b[0m in \u001b[0;36m<module>\u001b[0;34m\u001b[0m\n\u001b[1;32m      1\u001b[0m \u001b[0;31m# in 3.10, we got the `strict` flag !\u001b[0m\u001b[0;34m\u001b[0m\u001b[0;34m\u001b[0m\u001b[0m\n\u001b[0;32m----> 2\u001b[0;31m \u001b[0;32mfor\u001b[0m \u001b[0mastronaut\u001b[0m\u001b[0;34m,\u001b[0m \u001b[0mpresident\u001b[0m \u001b[0;32min\u001b[0m \u001b[0mzip\u001b[0m\u001b[0;34m(\u001b[0m\u001b[0mastronauts\u001b[0m\u001b[0;34m,\u001b[0m \u001b[0mpresidents\u001b[0m\u001b[0;34m,\u001b[0m \u001b[0mstrict\u001b[0m\u001b[0;34m=\u001b[0m\u001b[0;32mTrue\u001b[0m\u001b[0;34m)\u001b[0m\u001b[0;34m:\u001b[0m\u001b[0;34m\u001b[0m\u001b[0;34m\u001b[0m\u001b[0m\n\u001b[0m\u001b[1;32m      3\u001b[0m     \u001b[0mprint\u001b[0m\u001b[0;34m(\u001b[0m\u001b[0;34mf\"{astronaut} served under {president}.\"\u001b[0m\u001b[0;34m)\u001b[0m\u001b[0;34m\u001b[0m\u001b[0;34m\u001b[0m\u001b[0m\n",
      "\u001b[0;31mValueError\u001b[0m: zip() argument 2 is longer than argument 1"
     ]
    }
   ],
   "source": [
    "# in 3.10, we got the `strict` flag !\n",
    "for astronaut, president in zip(astronauts, presidents, strict=True):\n",
    "    print(f\"{astronaut} served under {president}.\")"
   ]
  },
  {
   "cell_type": "markdown",
   "id": "89417cb8-8cb5-4542-81eb-8f08ae216cf9",
   "metadata": {},
   "source": [
    "Notes:\n",
    " - the iteration still happens *until it reaches the end of one of the lists, even with the `strict` argument\n",
    " - `zip` works with any number of arguments, it's *not* limited to two\n"
   ]
  },
  {
   "cell_type": "markdown",
   "id": "3780a4c5-8e7e-479c-a9cf-f5b3a76a497c",
   "metadata": {},
   "source": [
    "### Iterate over combinations !"
   ]
  },
  {
   "cell_type": "code",
   "execution_count": 25,
   "id": "5c551f3f-2e6e-45d8-a2f0-445594511e30",
   "metadata": {},
   "outputs": [
    {
     "name": "stdout",
     "output_type": "stream",
     "text": [
      "0 0 0\n",
      "0 0 1\n",
      "0 0 2\n",
      "0 0 3\n",
      "0 0 4\n",
      "0 1 0\n",
      "0 1 1\n",
      "0 1 2\n",
      "0 1 3\n",
      "0 1 4\n",
      "0 2 0\n",
      "0 2 1\n",
      "0 2 2\n",
      "0 2 3\n",
      "0 2 4\n",
      "1 0 0\n",
      "1 0 1\n",
      "1 0 2\n",
      "1 0 3\n",
      "1 0 4\n",
      "1 1 0\n",
      "1 1 1\n",
      "1 1 2\n",
      "1 1 3\n",
      "1 1 4\n",
      "1 2 0\n",
      "1 2 1\n",
      "1 2 2\n",
      "1 2 3\n",
      "1 2 4\n"
     ]
    }
   ],
   "source": [
    "# BAD\n",
    "for i in range(2):\n",
    "    for j in range(3):\n",
    "        for k in range(5):\n",
    "            print(i, j, k)"
   ]
  },
  {
   "cell_type": "code",
   "execution_count": 28,
   "id": "ab5f9fe8-a1f2-4af5-b8da-ec506539fab0",
   "metadata": {},
   "outputs": [
    {
     "name": "stdout",
     "output_type": "stream",
     "text": [
      "0 0 0\n",
      "0 0 1\n",
      "0 0 2\n",
      "0 0 3\n",
      "0 0 4\n",
      "0 1 0\n",
      "0 1 1\n",
      "0 1 2\n",
      "0 1 3\n",
      "0 1 4\n",
      "0 2 0\n",
      "0 2 1\n",
      "0 2 2\n",
      "0 2 3\n",
      "0 2 4\n",
      "1 0 0\n",
      "1 0 1\n",
      "1 0 2\n",
      "1 0 3\n",
      "1 0 4\n",
      "1 1 0\n",
      "1 1 1\n",
      "1 1 2\n",
      "1 1 3\n",
      "1 1 4\n",
      "1 2 0\n",
      "1 2 1\n",
      "1 2 2\n",
      "1 2 3\n",
      "1 2 4\n"
     ]
    }
   ],
   "source": [
    "# GOOD\n",
    "from itertools import product\n",
    "\n",
    "for i, j, k in product(range(2), range(3), range(5)):\n",
    "    print(i, j, k)"
   ]
  },
  {
   "cell_type": "markdown",
   "id": "3c5d62bc-a4d3-41f1-83af-5c0e267778ff",
   "metadata": {},
   "source": [
    "### Chaining iterables"
   ]
  },
  {
   "cell_type": "code",
   "execution_count": 32,
   "id": "7e5f6dfe-ce11-45f2-aed5-a77deb6655fa",
   "metadata": {},
   "outputs": [
    {
     "name": "stdout",
     "output_type": "stream",
     "text": [
      "0\n",
      "1\n",
      "0\n",
      "1\n",
      "2\n",
      "0\n",
      "1\n",
      "2\n",
      "3\n",
      "4\n"
     ]
    }
   ],
   "source": [
    "# BAD\n",
    "it = list(range(2))\n",
    "it.extend(list(range(3)))\n",
    "it.extend(list(range(5)))\n",
    "for i in it:\n",
    "    print(i)"
   ]
  },
  {
   "cell_type": "code",
   "execution_count": 30,
   "id": "b4ca3ace-015d-45b9-bc7b-c667ad296a67",
   "metadata": {},
   "outputs": [
    {
     "name": "stdout",
     "output_type": "stream",
     "text": [
      "0\n",
      "1\n",
      "0\n",
      "1\n",
      "2\n",
      "0\n",
      "1\n",
      "2\n",
      "3\n",
      "4\n"
     ]
    }
   ],
   "source": [
    "# GOOD\n",
    "from itertools import chain\n",
    "\n",
    "for i in chain(range(2), range(3), range(5)):\n",
    "    print(i)"
   ]
  },
  {
   "cell_type": "markdown",
   "id": "33be2de6-b1e0-4b9f-ba28-98d912337e14",
   "metadata": {},
   "source": [
    "There's more !\n",
    "- within the standard library: https://docs.python.org/3/library/itertools.html\n",
    "- using a third party package https://more-itertools.readthedocs.io/en/stable/"
   ]
  },
  {
   "cell_type": "code",
   "execution_count": null,
   "id": "629877fc-6420-4f49-a597-998c1d0e6568",
   "metadata": {},
   "outputs": [],
   "source": []
  }
 ],
 "metadata": {
  "kernelspec": {
   "display_name": "Python 3 (ipykernel)",
   "language": "python",
   "name": "python3"
  },
  "language_info": {
   "codemirror_mode": {
    "name": "ipython",
    "version": 3
   },
   "file_extension": ".py",
   "mimetype": "text/x-python",
   "name": "python",
   "nbconvert_exporter": "python",
   "pygments_lexer": "ipython3",
   "version": "3.10.0"
  }
 },
 "nbformat": 4,
 "nbformat_minor": 5
}
