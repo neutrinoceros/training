{
 "cells": [
  {
   "cell_type": "markdown",
   "id": "caf4e378-2a17-4d21-bf3a-083f9025a9fa",
   "metadata": {},
   "source": [
    "## Temporary files and dirs\n",
    "\n",
    "Let's pretend we need to generate files that we won't care about after the whole operation is completed,\n",
    "or that we need to run an external program that generates lots of files we don't want to keep.\n",
    "\n",
    "resources:\n",
    "- [the tempfile module](https://docs.python.org/3/library/tempfile.html)\n",
    "- [the shutil module](https://docs.python.org/3/library/shutil.html?highlight=shutil#module-shutil)\n",
    "- [the os module](https://docs.python.org/3/library/os.html?highlight=os#module-os)"
   ]
  },
  {
   "cell_type": "code",
   "execution_count": null,
   "id": "7998344d-830e-4a22-80e1-7fc8c7b1be4c",
   "metadata": {},
   "outputs": [],
   "source": [
    "import time\n",
    "import os\n",
    "import shutil\n",
    "\n",
    "\n",
    "def task(n):\n",
    "    time.sleep(0.01)\n",
    "    with open(f\"{n}.txt\", \"w\") as fh:\n",
    "        fh.write(\"useless log data\")\n",
    "\n",
    "\n",
    "def main(nmax, directory):\n",
    "    # the main loop.\n",
    "    # You can tell it's going to get ugly if we\n",
    "    # run this with a large value for nmax\n",
    "    cwd = os.getcwd()\n",
    "    os.chdir(directory)\n",
    "    try:\n",
    "        for n in range(nmax):\n",
    "            task(n)\n",
    "    finally:\n",
    "        os.chdir(cwd)"
   ]
  },
  {
   "cell_type": "code",
   "execution_count": null,
   "id": "9051a8b7-0dba-440a-a3bb-17b259cf1886",
   "metadata": {},
   "outputs": [],
   "source": [
    "# BAD: do everything yourself, setup + cleanup. No safety net in case anything goes wrong\n",
    "my_temp_dir = \"tmp\"\n",
    "os.mkdir(my_temp_dir)\n",
    "\n",
    "main(2, my_temp_dir)\n",
    "\n",
    "shutil.rmtree(my_temp_dir)\n",
    "\n",
    "assert not os.path.exists(my_temp_dir)"
   ]
  },
  {
   "cell_type": "code",
   "execution_count": null,
   "id": "da23f5ec-2b42-45b6-abbc-f87861fa12be",
   "metadata": {},
   "outputs": [],
   "source": [
    "# BETTER: guaranteed cleaning\n",
    "my_temp_dir = \"tmp\"\n",
    "os.mkdir(my_temp_dir)\n",
    "\n",
    "try:\n",
    "    main(2, my_temp_dir)\n",
    "finally:\n",
    "    shutil.rmtree(my_temp_dir)\n",
    "\n",
    "assert not os.path.exists(my_temp_dir)"
   ]
  },
  {
   "cell_type": "code",
   "execution_count": null,
   "id": "2d1814c2-5db1-4ca2-8958-a35ed81fccbb",
   "metadata": {},
   "outputs": [],
   "source": [
    "# EVEN BETTER: guaranteed unique dir, guaranteed cleaning, trivial setup\n",
    "import tempfile\n",
    "\n",
    "with tempfile.TemporaryDirectory() as temp_dir:\n",
    "    main(2, temp_dir)"
   ]
  }
 ],
 "metadata": {
  "kernelspec": {
   "display_name": "Python 3 (ipykernel)",
   "language": "python",
   "name": "python3"
  },
  "language_info": {
   "codemirror_mode": {
    "name": "ipython",
    "version": 3
   },
   "file_extension": ".py",
   "mimetype": "text/x-python",
   "name": "python",
   "nbconvert_exporter": "python",
   "pygments_lexer": "ipython3",
   "version": "3.10.0"
  }
 },
 "nbformat": 4,
 "nbformat_minor": 5
}
