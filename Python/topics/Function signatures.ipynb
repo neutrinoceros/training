{
 "cells": [
  {
   "cell_type": "markdown",
   "id": "cedbd80b-9242-4fde-a0ce-a7a6ab0b4e5c",
   "metadata": {},
   "source": [
    "## Function signatures\n",
    "\n",
    "Python function are extremely flexible in how you're allowed to use them\n",
    "\n",
    "The language offers several mechanisms that allow you to select which use cases you *want* to support and make the other ones invalid.\n",
    "\n",
    "Resources:\n",
    "- [PEP 3102 keyword-only arguments](https://www.python.org/dev/peps/pep-3102/)\n",
    "- [PEP 570 positional-only arguments](https://www.python.org/dev/peps/pep-0570/)\n",
    "- [Sci-ki learn 1.0 release notes](https://scikit-learn.org/stable/auto_examples/release_highlights/plot_release_highlights_1_0_0.html#keyword-and-positional-arguments)\n",
    "\n",
    "\n",
    "### Limit the flexibility of your functions"
   ]
  },
  {
   "cell_type": "code",
   "execution_count": null,
   "id": "58d73fd7-0504-4d3c-a019-4b3703497a70",
   "metadata": {},
   "outputs": [],
   "source": [
    "# example 1:\n",
    "def product_v1(a, b, allow_mixed_types=False):\n",
    "    if type(a) != type(b) and not allow_mixed_types:\n",
    "        raise ValueError(f\"Got {a=} with {type(a)=} and {b=} with {type(b)=}\")\n",
    "    return product(a, b)"
   ]
  },
  {
   "cell_type": "code",
   "execution_count": null,
   "id": "99041c09-568b-4e69-a8e3-3b7be06eb002",
   "metadata": {},
   "outputs": [],
   "source": [
    "## allowed\n",
    "product_v1(4, 2)\n",
    "product_v1(a=4, b=2)\n",
    "product_v2(3, \"hey ! \", allow_mixed_types=True)"
   ]
  },
  {
   "cell_type": "code",
   "execution_count": null,
   "id": "de591a8e-7aaa-416c-b4d8-c19716902cae",
   "metadata": {},
   "outputs": [],
   "source": [
    "# weirdly allowed to\n",
    "product_v1(4, 2, 3)"
   ]
  },
  {
   "cell_type": "code",
   "execution_count": null,
   "id": "ef6e5b05-4ce4-46b3-9cba-02e6911816be",
   "metadata": {},
   "outputs": [],
   "source": [
    "product_v1(4, b=2)"
   ]
  },
  {
   "cell_type": "code",
   "execution_count": null,
   "id": "7edb89da-1092-458d-8e8a-041929dd876d",
   "metadata": {},
   "outputs": [],
   "source": [
    "product_v1(4, 2, True)"
   ]
  },
  {
   "cell_type": "code",
   "execution_count": null,
   "id": "4b1750a0-71f2-475f-8315-d72fa3912982",
   "metadata": {},
   "outputs": [],
   "source": [
    "product_v1(4, 2, False)"
   ]
  },
  {
   "cell_type": "code",
   "execution_count": null,
   "id": "698176b5-a752-42f7-8c10-98d0a78dce28",
   "metadata": {},
   "outputs": [],
   "source": [
    "product_v1(4, 2, allow_mixed_types=1)"
   ]
  },
  {
   "cell_type": "code",
   "execution_count": null,
   "id": "1719fc20-9cbf-4945-a658-452b9051e57f",
   "metadata": {},
   "outputs": [],
   "source": [
    "product_v1(4, 2, allow_mixed_types=\"yes\")"
   ]
  },
  {
   "cell_type": "markdown",
   "id": "99200d3d-019d-4a92-8c7b-38a979fe778c",
   "metadata": {},
   "source": [
    "So how do we fix these without breaking the valid use cases ?\n",
    "\n",
    "<details> <summary> answer </summary>\n",
    "    \n",
    "    Use keyword-only arguments !\n",
    "</details>"
   ]
  },
  {
   "cell_type": "code",
   "execution_count": null,
   "id": "679a776d-cceb-4119-ae84-ce4d880a02f4",
   "metadata": {},
   "outputs": [],
   "source": [
    "def product_v2(a, b, *, allow_mixed_types=False):\n",
    "    return product_v1(a, b, allow_mixed_types=allow_mixed_types)"
   ]
  },
  {
   "cell_type": "code",
   "execution_count": null,
   "id": "fea8f547-35ce-4d5e-9cc9-124a3d9415f3",
   "metadata": {},
   "outputs": [],
   "source": [
    "# this is now forbidden\n",
    "product_v2(4, 2, 3)"
   ]
  },
  {
   "cell_type": "code",
   "execution_count": null,
   "id": "bde286b6-68b8-44e6-8c3a-b6590037f6ff",
   "metadata": {},
   "outputs": [],
   "source": [
    "product_v2(4, 2, True)"
   ]
  },
  {
   "cell_type": "code",
   "execution_count": null,
   "id": "e098ac16-1f37-425e-aec5-f0a8b624fdc2",
   "metadata": {},
   "outputs": [],
   "source": [
    "product_v2(4, 2, False)"
   ]
  },
  {
   "cell_type": "code",
   "execution_count": null,
   "id": "cec2eba8-36f1-40fe-80be-bbccf1087caf",
   "metadata": {},
   "outputs": [],
   "source": [
    "# but this still valid (and maybe it shouldn't ?)\n",
    "product_v2(4, b=2)"
   ]
  },
  {
   "cell_type": "markdown",
   "id": "da18fcba-29f8-45f0-9640-4ac532c224c4",
   "metadata": {},
   "source": [
    "\n",
    "\n",
    "<details> <summary> answer </summary>\n",
    "    \n",
    "    \n",
    "    - In Python 3.7 and older, we're out of luck, there's no way (easy) way you can prevent this\n",
    "    - In Python 3.8 and newer, we can use positional-only arguments\n",
    "                  \n",
    "</details>"
   ]
  },
  {
   "cell_type": "code",
   "execution_count": null,
   "id": "45e7ca53-1c5e-4afb-b6ca-e8fd04fc40ac",
   "metadata": {},
   "outputs": [],
   "source": [
    "# REQUIRE PYTHON 3.8\n",
    "def product_v3(a, b, /, *, allow_mixed_types=False):\n",
    "    return product_v2(a, b, allow_mixed_types=allow_mixed_types)"
   ]
  },
  {
   "cell_type": "code",
   "execution_count": null,
   "id": "d8bb954c-a103-418a-bf7b-3a80882ad091",
   "metadata": {},
   "outputs": [],
   "source": [
    "# :tada:\n",
    "product_v3(4, b=2)"
   ]
  },
  {
   "cell_type": "markdown",
   "id": "d3e83f1f-be7d-4dea-8272-db8e29b9cf21",
   "metadata": {},
   "source": [
    "### ... so you have room to add flexibility when it rely matters"
   ]
  },
  {
   "cell_type": "code",
   "execution_count": null,
   "id": "ff7931a2-af73-4c1c-86a9-ad32753bd5a0",
   "metadata": {},
   "outputs": [],
   "source": [
    "import numpy as np\n",
    "import matplotlib.pyplot as plt\n",
    "\n",
    "# generate example data\n",
    "prng = np.random.RandomState(0x4D3D3D3)\n",
    "noise = prng.random_sample((100, 100))\n",
    "x, y = np.mgrid[-50:50, -50:50]\n",
    "z = 5 * np.exp(-(x ** 2 + y ** 2) / 1000)\n",
    "\n",
    "\n",
    "def my_plot_v1():\n",
    "    # setup the figure\n",
    "    fig, ax = plt.subplots()\n",
    "    ax.set(aspect=\"equal\")\n",
    "\n",
    "    im = ax.pcolormesh(x, y, z + noise)\n",
    "    fig.colorbar(im, ax=ax)\n",
    "    return fig"
   ]
  },
  {
   "cell_type": "code",
   "execution_count": null,
   "id": "4483affe-2a34-4163-ae70-99d80e9575b4",
   "metadata": {},
   "outputs": [],
   "source": [
    "fig = my_plot_v1()"
   ]
  },
  {
   "cell_type": "code",
   "execution_count": null,
   "id": "50d2abf1-8200-4a9d-bbfd-b7424bde3423",
   "metadata": {},
   "outputs": [],
   "source": [
    "def my_plot_v2(**kwargs):\n",
    "    # setup the figure\n",
    "    fig, ax = plt.subplots()\n",
    "    ax.set(aspect=\"equal\")\n",
    "\n",
    "    im = ax.pcolormesh(x, y, z + noise, **kwargs)\n",
    "    fig.colorbar(im, ax=ax)\n",
    "    return fig"
   ]
  },
  {
   "cell_type": "code",
   "execution_count": null,
   "id": "d63d09a6-f36c-41ff-becc-c14231be6890",
   "metadata": {},
   "outputs": [],
   "source": [
    "fig = my_plot_v2(shading=\"gouraud\", rasterized=True)"
   ]
  }
 ],
 "metadata": {
  "kernelspec": {
   "display_name": "Python 3 (ipykernel)",
   "language": "python",
   "name": "python3"
  },
  "language_info": {
   "codemirror_mode": {
    "name": "ipython",
    "version": 3
   },
   "file_extension": ".py",
   "mimetype": "text/x-python",
   "name": "python",
   "nbconvert_exporter": "python",
   "pygments_lexer": "ipython3",
   "version": "3.10.0"
  }
 },
 "nbformat": 4,
 "nbformat_minor": 5
}
