{
 "cells": [
  {
   "cell_type": "markdown",
   "id": "387f6741-d71f-4a57-8bf2-3483ce503362",
   "metadata": {},
   "source": [
    "# Using `try` effectively"
   ]
  },
  {
   "cell_type": "markdown",
   "id": "802185ea-16ee-4755-bd7f-7fa6a4365f7c",
   "metadata": {},
   "source": [
    "### note\n",
    "I'm sure you know `try` cannot be used on its own. Most of the time it comes with an `except` clause, but this part is not actually required. You need to have at least an `except` clause *or* a `finally` clause, and you can use an `else` clause too if there's an `except`. `else` and `finally` are probably more obscure, let's showcase them.\n",
    "\n",
    "\n",
    "### `try/except/else`\n",
    "\n",
    "Maybe the two most common mistakes with `try/except`:\n",
    "- try block is larger than the code we except to (sometimes) fail -> use `else`\n",
    "- bare \"catchall\" `except` statements that may catch stuff we didn't intented it to"
   ]
  },
  {
   "cell_type": "code",
   "execution_count": null,
   "id": "fe1064f6-73a2-4724-aedf-f410148a7323",
   "metadata": {},
   "outputs": [],
   "source": [
    "# BAD\n",
    "try:\n",
    "    import time\n",
    "\n",
    "    print(\"Success !\", jesuiscontent=True)\n",
    "except:\n",
    "    print(\"Could not import time :(\")"
   ]
  },
  {
   "cell_type": "code",
   "execution_count": null,
   "id": "c3c9d20f-e7e9-4e5e-980f-0bb1f5da44fc",
   "metadata": {},
   "outputs": [],
   "source": [
    "# LESS BAD\n",
    "try:\n",
    "    import time\n",
    "\n",
    "    print(\"Success !\", jesuiscontent=True)\n",
    "except ImportError:\n",
    "    print(\"Could not import time :(\")"
   ]
  },
  {
   "cell_type": "code",
   "execution_count": null,
   "id": "87066327-051b-49bc-9076-ecf0a2b50c59",
   "metadata": {},
   "outputs": [],
   "source": [
    "# ALMOST THERE\n",
    "try:\n",
    "    import time\n",
    "except ImportError:\n",
    "    print(\"Could not import time :(\")\n",
    "else:\n",
    "    print(\"Success !\", jesuiscontent=True)"
   ]
  },
  {
   "cell_type": "code",
   "execution_count": null,
   "id": "80753920-f156-4d0c-8b0b-6b28fda160d0",
   "metadata": {},
   "outputs": [],
   "source": [
    "# GOOD\n",
    "try:\n",
    "    import time\n",
    "except ImportError:\n",
    "    print(\"Could not import time :(\")\n",
    "else:\n",
    "    print(\"Success !\")"
   ]
  },
  {
   "cell_type": "markdown",
   "id": "6f2a9b19-886b-4ab8-bbc6-340a13153c48",
   "metadata": {},
   "source": [
    "### `try/finally`\n",
    "\n",
    "the `finally` clause is excecuted after all other clauses in the `try` block, *no matter what*, and in particular, even if an exception is raised, in which case it is executed BEFORE raising the exception"
   ]
  },
  {
   "cell_type": "code",
   "execution_count": null,
   "id": "f51ae979-1a06-4062-b625-bf9554611e8d",
   "metadata": {},
   "outputs": [],
   "source": [
    "# EXAMPLE 1\n",
    "\n",
    "try:\n",
    "    1 / 0\n",
    "finally:\n",
    "    print(\"Did this go well ??\")"
   ]
  },
  {
   "cell_type": "code",
   "execution_count": null,
   "id": "9d47829d-f4fb-4692-8f7d-400b2979a943",
   "metadata": {},
   "outputs": [],
   "source": [
    "# EXAMPLE 2\n",
    "\n",
    "try:\n",
    "    1 / 1\n",
    "finally:\n",
    "    print(\"Did this go well ??\")"
   ]
  },
  {
   "cell_type": "code",
   "execution_count": null,
   "id": "d97f60a3-3d53-4a73-b73f-c338849fcfae",
   "metadata": {},
   "outputs": [],
   "source": [
    "# EXAMPLE: with a return\n",
    "def lol_division(a, b):\n",
    "    try:\n",
    "        return a / b\n",
    "    finally:\n",
    "        print(\"lol, nice\")\n",
    "\n",
    "\n",
    "res = lol_division(1, 2)\n",
    "print(res)"
   ]
  },
  {
   "cell_type": "code",
   "execution_count": null,
   "id": "acb49653-b2be-4db3-aa07-259c7fa63c01",
   "metadata": {},
   "outputs": [],
   "source": [
    "res = lol_division(1, 0)\n",
    "print(res)"
   ]
  }
 ],
 "metadata": {
  "kernelspec": {
   "display_name": "Python 3 (ipykernel)",
   "language": "python",
   "name": "python3"
  },
  "language_info": {
   "codemirror_mode": {
    "name": "ipython",
    "version": 3
   },
   "file_extension": ".py",
   "mimetype": "text/x-python",
   "name": "python",
   "nbconvert_exporter": "python",
   "pygments_lexer": "ipython3",
   "version": "3.10.0"
  }
 },
 "nbformat": 4,
 "nbformat_minor": 5
}
