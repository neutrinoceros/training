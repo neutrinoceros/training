{
 "cells": [
  {
   "cell_type": "markdown",
   "id": "387f6741-d71f-4a57-8bf2-3483ce503362",
   "metadata": {},
   "source": [
    "# Using `try` effectively"
   ]
  },
  {
   "cell_type": "markdown",
   "id": "802185ea-16ee-4755-bd7f-7fa6a4365f7c",
   "metadata": {},
   "source": [
    "### note\n",
    "I'm sure you know `try` cannot be used on its own. Most of the time it comes with an `except` clause, but this part is not actually required. You need to have at least an `except` clause *or* a `finally` clause, and you can use an `else` clause too if there's an `except`. `else` and `finally` are probably more obscure, let's showcase them.\n",
    "\n",
    "\n",
    "### `try/except/else`\n",
    "\n",
    "Maybe the two most common mistakes with `try/except`:\n",
    "- try block is larger than the code we except to (sometimes) fail -> use `else`\n",
    "- bare \"catchall\" `except` statements that may catch stuff we didn't intented it to"
   ]
  },
  {
   "cell_type": "code",
   "execution_count": 4,
   "id": "fe1064f6-73a2-4724-aedf-f410148a7323",
   "metadata": {},
   "outputs": [
    {
     "name": "stdout",
     "output_type": "stream",
     "text": [
      "Could not import time :(\n"
     ]
    }
   ],
   "source": [
    "# BAD\n",
    "try:\n",
    "    import time\n",
    "\n",
    "    print(\"Success !\", jesuiscontent=True)\n",
    "except:\n",
    "    print(\"Could not import time :(\")"
   ]
  },
  {
   "cell_type": "code",
   "execution_count": 5,
   "id": "c3c9d20f-e7e9-4e5e-980f-0bb1f5da44fc",
   "metadata": {},
   "outputs": [
    {
     "ename": "TypeError",
     "evalue": "'jesuiscontent' is an invalid keyword argument for print()",
     "output_type": "error",
     "traceback": [
      "\u001b[0;31m---------------------------------------------------------------------------\u001b[0m",
      "\u001b[0;31mTypeError\u001b[0m                                 Traceback (most recent call last)",
      "\u001b[0;32m/var/folders/xh/yfmp7l9n3x50ln2yvrndt7c801pbkm/T/ipykernel_25726/982761782.py\u001b[0m in \u001b[0;36m<module>\u001b[0;34m\u001b[0m\n\u001b[1;32m      2\u001b[0m \u001b[0;32mtry\u001b[0m\u001b[0;34m:\u001b[0m\u001b[0;34m\u001b[0m\u001b[0;34m\u001b[0m\u001b[0m\n\u001b[1;32m      3\u001b[0m     \u001b[0;32mimport\u001b[0m \u001b[0mtime\u001b[0m\u001b[0;34m\u001b[0m\u001b[0;34m\u001b[0m\u001b[0m\n\u001b[0;32m----> 4\u001b[0;31m     \u001b[0mprint\u001b[0m\u001b[0;34m(\u001b[0m\u001b[0;34m\"Success !\"\u001b[0m\u001b[0;34m,\u001b[0m \u001b[0mjesuiscontent\u001b[0m\u001b[0;34m=\u001b[0m\u001b[0;32mTrue\u001b[0m\u001b[0;34m)\u001b[0m\u001b[0;34m\u001b[0m\u001b[0;34m\u001b[0m\u001b[0m\n\u001b[0m\u001b[1;32m      5\u001b[0m \u001b[0;32mexcept\u001b[0m \u001b[0mImportError\u001b[0m\u001b[0;34m:\u001b[0m\u001b[0;34m\u001b[0m\u001b[0;34m\u001b[0m\u001b[0m\n\u001b[1;32m      6\u001b[0m     \u001b[0mprint\u001b[0m\u001b[0;34m(\u001b[0m\u001b[0;34m\"Could not import time :(\"\u001b[0m\u001b[0;34m)\u001b[0m\u001b[0;34m\u001b[0m\u001b[0;34m\u001b[0m\u001b[0m\n",
      "\u001b[0;31mTypeError\u001b[0m: 'jesuiscontent' is an invalid keyword argument for print()"
     ]
    }
   ],
   "source": [
    "# LESS BAD\n",
    "try:\n",
    "    import time\n",
    "\n",
    "    print(\"Success !\", jesuiscontent=True)\n",
    "except ImportError:\n",
    "    print(\"Could not import time :(\")"
   ]
  },
  {
   "cell_type": "code",
   "execution_count": 6,
   "id": "87066327-051b-49bc-9076-ecf0a2b50c59",
   "metadata": {},
   "outputs": [
    {
     "ename": "TypeError",
     "evalue": "'jesuiscontent' is an invalid keyword argument for print()",
     "output_type": "error",
     "traceback": [
      "\u001b[0;31m---------------------------------------------------------------------------\u001b[0m",
      "\u001b[0;31mTypeError\u001b[0m                                 Traceback (most recent call last)",
      "\u001b[0;32m/var/folders/xh/yfmp7l9n3x50ln2yvrndt7c801pbkm/T/ipykernel_25726/3169976302.py\u001b[0m in \u001b[0;36m<module>\u001b[0;34m\u001b[0m\n\u001b[1;32m      5\u001b[0m     \u001b[0mprint\u001b[0m\u001b[0;34m(\u001b[0m\u001b[0;34m\"Could not import time :(\"\u001b[0m\u001b[0;34m)\u001b[0m\u001b[0;34m\u001b[0m\u001b[0;34m\u001b[0m\u001b[0m\n\u001b[1;32m      6\u001b[0m \u001b[0;32melse\u001b[0m\u001b[0;34m:\u001b[0m\u001b[0;34m\u001b[0m\u001b[0;34m\u001b[0m\u001b[0m\n\u001b[0;32m----> 7\u001b[0;31m     \u001b[0mprint\u001b[0m\u001b[0;34m(\u001b[0m\u001b[0;34m\"Success !\"\u001b[0m\u001b[0;34m,\u001b[0m \u001b[0mjesuiscontent\u001b[0m\u001b[0;34m=\u001b[0m\u001b[0;32mTrue\u001b[0m\u001b[0;34m)\u001b[0m\u001b[0;34m\u001b[0m\u001b[0;34m\u001b[0m\u001b[0m\n\u001b[0m",
      "\u001b[0;31mTypeError\u001b[0m: 'jesuiscontent' is an invalid keyword argument for print()"
     ]
    }
   ],
   "source": [
    "# ALMOST THERE\n",
    "try:\n",
    "    import time\n",
    "except ImportError:\n",
    "    print(\"Could not import time :(\")\n",
    "else:\n",
    "    print(\"Success !\", jesuiscontent=True)"
   ]
  },
  {
   "cell_type": "code",
   "execution_count": 7,
   "id": "80753920-f156-4d0c-8b0b-6b28fda160d0",
   "metadata": {},
   "outputs": [
    {
     "name": "stdout",
     "output_type": "stream",
     "text": [
      "Success !\n"
     ]
    }
   ],
   "source": [
    "# GOOD\n",
    "try:\n",
    "    import time\n",
    "except ImportError:\n",
    "    print(\"Could not import time :(\")\n",
    "else:\n",
    "    print(\"Success !\")"
   ]
  },
  {
   "cell_type": "markdown",
   "id": "6f2a9b19-886b-4ab8-bbc6-340a13153c48",
   "metadata": {},
   "source": [
    "### `try/finally`\n",
    "\n",
    "the `finally` clause is excecuted after all other clauses in the `try` block, *no matter what*, and in particular, even if an exception is raised, in which case it is executed BEFORE raising the exception"
   ]
  },
  {
   "cell_type": "code",
   "execution_count": 12,
   "id": "f51ae979-1a06-4062-b625-bf9554611e8d",
   "metadata": {},
   "outputs": [
    {
     "name": "stdout",
     "output_type": "stream",
     "text": [
      "Did this go well ??\n"
     ]
    },
    {
     "ename": "ZeroDivisionError",
     "evalue": "division by zero",
     "output_type": "error",
     "traceback": [
      "\u001b[0;31m---------------------------------------------------------------------------\u001b[0m",
      "\u001b[0;31mZeroDivisionError\u001b[0m                         Traceback (most recent call last)",
      "\u001b[0;32m/var/folders/xh/yfmp7l9n3x50ln2yvrndt7c801pbkm/T/ipykernel_25726/2997869300.py\u001b[0m in \u001b[0;36m<module>\u001b[0;34m\u001b[0m\n\u001b[1;32m      2\u001b[0m \u001b[0;34m\u001b[0m\u001b[0m\n\u001b[1;32m      3\u001b[0m \u001b[0;32mtry\u001b[0m\u001b[0;34m:\u001b[0m\u001b[0;34m\u001b[0m\u001b[0;34m\u001b[0m\u001b[0m\n\u001b[0;32m----> 4\u001b[0;31m     \u001b[0;36m1\u001b[0m\u001b[0;34m/\u001b[0m\u001b[0;36m0\u001b[0m\u001b[0;34m\u001b[0m\u001b[0;34m\u001b[0m\u001b[0m\n\u001b[0m\u001b[1;32m      5\u001b[0m \u001b[0;32mfinally\u001b[0m\u001b[0;34m:\u001b[0m\u001b[0;34m\u001b[0m\u001b[0;34m\u001b[0m\u001b[0m\n\u001b[1;32m      6\u001b[0m     \u001b[0mprint\u001b[0m\u001b[0;34m(\u001b[0m\u001b[0;34m\"Did this go well ??\"\u001b[0m\u001b[0;34m)\u001b[0m\u001b[0;34m\u001b[0m\u001b[0;34m\u001b[0m\u001b[0m\n",
      "\u001b[0;31mZeroDivisionError\u001b[0m: division by zero"
     ]
    }
   ],
   "source": [
    "# EXAMPLE 1\n",
    "\n",
    "try:\n",
    "    1 / 0\n",
    "finally:\n",
    "    print(\"Did this go well ??\")"
   ]
  },
  {
   "cell_type": "code",
   "execution_count": 14,
   "id": "9d47829d-f4fb-4692-8f7d-400b2979a943",
   "metadata": {},
   "outputs": [
    {
     "name": "stdout",
     "output_type": "stream",
     "text": [
      "Did this go well ??\n"
     ]
    }
   ],
   "source": [
    "# EXAMPLE 2\n",
    "\n",
    "try:\n",
    "    1 / 1\n",
    "finally:\n",
    "    print(\"Did this go well ??\")"
   ]
  },
  {
   "cell_type": "code",
   "execution_count": 17,
   "id": "d97f60a3-3d53-4a73-b73f-c338849fcfae",
   "metadata": {},
   "outputs": [
    {
     "name": "stdout",
     "output_type": "stream",
     "text": [
      "lol, nice\n",
      "0.5\n"
     ]
    }
   ],
   "source": [
    "# EXAMPLE: with a return\n",
    "def lol_division(a, b):\n",
    "    try:\n",
    "        return a / b\n",
    "    finally:\n",
    "        print(\"lol, nice\")\n",
    "\n",
    "\n",
    "res = lol_division(1, 2)\n",
    "print(res)"
   ]
  },
  {
   "cell_type": "code",
   "execution_count": 18,
   "id": "acb49653-b2be-4db3-aa07-259c7fa63c01",
   "metadata": {},
   "outputs": [
    {
     "name": "stdout",
     "output_type": "stream",
     "text": [
      "lol, nice\n"
     ]
    },
    {
     "ename": "ZeroDivisionError",
     "evalue": "division by zero",
     "output_type": "error",
     "traceback": [
      "\u001b[0;31m---------------------------------------------------------------------------\u001b[0m",
      "\u001b[0;31mZeroDivisionError\u001b[0m                         Traceback (most recent call last)",
      "\u001b[0;32m/var/folders/xh/yfmp7l9n3x50ln2yvrndt7c801pbkm/T/ipykernel_25726/3349170113.py\u001b[0m in \u001b[0;36m<module>\u001b[0;34m\u001b[0m\n\u001b[0;32m----> 1\u001b[0;31m \u001b[0mres\u001b[0m \u001b[0;34m=\u001b[0m \u001b[0mlol_division\u001b[0m\u001b[0;34m(\u001b[0m\u001b[0;36m1\u001b[0m\u001b[0;34m,\u001b[0m \u001b[0;36m0\u001b[0m\u001b[0;34m)\u001b[0m\u001b[0;34m\u001b[0m\u001b[0;34m\u001b[0m\u001b[0m\n\u001b[0m\u001b[1;32m      2\u001b[0m \u001b[0mprint\u001b[0m\u001b[0;34m(\u001b[0m\u001b[0mres\u001b[0m\u001b[0;34m)\u001b[0m\u001b[0;34m\u001b[0m\u001b[0;34m\u001b[0m\u001b[0m\n",
      "\u001b[0;32m/var/folders/xh/yfmp7l9n3x50ln2yvrndt7c801pbkm/T/ipykernel_25726/3232343401.py\u001b[0m in \u001b[0;36mlol_division\u001b[0;34m(a, b)\u001b[0m\n\u001b[1;32m      2\u001b[0m \u001b[0;32mdef\u001b[0m \u001b[0mlol_division\u001b[0m\u001b[0;34m(\u001b[0m\u001b[0ma\u001b[0m\u001b[0;34m,\u001b[0m \u001b[0mb\u001b[0m\u001b[0;34m)\u001b[0m\u001b[0;34m:\u001b[0m\u001b[0;34m\u001b[0m\u001b[0;34m\u001b[0m\u001b[0m\n\u001b[1;32m      3\u001b[0m     \u001b[0;32mtry\u001b[0m\u001b[0;34m:\u001b[0m\u001b[0;34m\u001b[0m\u001b[0;34m\u001b[0m\u001b[0m\n\u001b[0;32m----> 4\u001b[0;31m         \u001b[0;32mreturn\u001b[0m \u001b[0ma\u001b[0m\u001b[0;34m/\u001b[0m\u001b[0mb\u001b[0m\u001b[0;34m\u001b[0m\u001b[0;34m\u001b[0m\u001b[0m\n\u001b[0m\u001b[1;32m      5\u001b[0m     \u001b[0;32mfinally\u001b[0m\u001b[0;34m:\u001b[0m\u001b[0;34m\u001b[0m\u001b[0;34m\u001b[0m\u001b[0m\n\u001b[1;32m      6\u001b[0m         \u001b[0mprint\u001b[0m\u001b[0;34m(\u001b[0m\u001b[0;34m\"lol, nice\"\u001b[0m\u001b[0;34m)\u001b[0m\u001b[0;34m\u001b[0m\u001b[0;34m\u001b[0m\u001b[0m\n",
      "\u001b[0;31mZeroDivisionError\u001b[0m: division by zero"
     ]
    }
   ],
   "source": [
    "res = lol_division(1, 0)\n",
    "print(res)"
   ]
  },
  {
   "cell_type": "code",
   "execution_count": null,
   "id": "2d4ab245-ac42-4108-a9c7-791b604965ae",
   "metadata": {},
   "outputs": [],
   "source": []
  }
 ],
 "metadata": {
  "kernelspec": {
   "display_name": "Python 3 (ipykernel)",
   "language": "python",
   "name": "python3"
  },
  "language_info": {
   "codemirror_mode": {
    "name": "ipython",
    "version": 3
   },
   "file_extension": ".py",
   "mimetype": "text/x-python",
   "name": "python",
   "nbconvert_exporter": "python",
   "pygments_lexer": "ipython3",
   "version": "3.10.0"
  }
 },
 "nbformat": 4,
 "nbformat_minor": 5
}
