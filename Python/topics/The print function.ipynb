{
 "cells": [
  {
   "cell_type": "markdown",
   "id": "a6c02c9d-63d0-437a-9da4-b91079640e00",
   "metadata": {},
   "source": [
    "# The print function\n",
    "\n",
    "Python 3.0 replaced the `print` statement with a `function`. It made us add parens everywhere (annoying), but did we get in return ?\n",
    "\n",
    "resources:\n",
    "- [Why Python 3 exists (Brett Cannon)](https://snarky.ca/why-python-3-exists/)\n",
    "- [Why print became a function (Brett Cannon)](https://snarky.ca/why-print-became-a-function-in-python-3/)"
   ]
  },
  {
   "cell_type": "markdown",
   "id": "395decd2-1419-4aeb-ab56-320778196363",
   "metadata": {},
   "source": [
    "## the `end` and `flush` arguments\n",
    "\n",
    "let's implement a basic \"progress bar\" in the form of a counter"
   ]
  },
  {
   "cell_type": "code",
   "execution_count": null,
   "id": "afdff9a1-d592-46fc-b387-4bcb3c5ae23e",
   "metadata": {},
   "outputs": [],
   "source": [
    "import time\n",
    "\n",
    "TOTAL = 20"
   ]
  },
  {
   "cell_type": "code",
   "execution_count": null,
   "id": "38ea3cbb-8639-4efb-8392-cbc52bd2a358",
   "metadata": {},
   "outputs": [],
   "source": [
    "# BAD\n",
    "for i in range(1, TOTAL + 1):\n",
    "    print(f\"{i} / {TOTAL}\")\n",
    "    time.sleep(0.05)"
   ]
  },
  {
   "cell_type": "code",
   "execution_count": null,
   "id": "62864fcc-8893-4f93-88ab-e5a8ca39f653",
   "metadata": {},
   "outputs": [],
   "source": [
    "# GOOD\n",
    "for i in range(1, TOTAL + 1):\n",
    "    print(f\"{i} / {TOTAL}\", end=\"\\r\")\n",
    "    time.sleep(0.1)"
   ]
  },
  {
   "cell_type": "code",
   "execution_count": null,
   "id": "25697671-8764-47d3-971d-636ca6c356bc",
   "metadata": {},
   "outputs": [],
   "source": [
    "# GOOD TOO: guaranteed progression (maybe undesirable)\n",
    "for i in range(1, TOTAL + 1):\n",
    "    print(f\"{i} / {TOTAL}\", end=\"\\r\", flush=True)\n",
    "    time.sleep(0.1)"
   ]
  },
  {
   "cell_type": "code",
   "execution_count": null,
   "id": "2229b56f-0fc1-4725-a530-ca6ce4072267",
   "metadata": {},
   "outputs": [],
   "source": [
    "# progressive line printing\n",
    "message = \"slow and steady wins the race!\"\n",
    "\n",
    "for elem in message.split():\n",
    "    print(elem, end=\" \", flush=True)\n",
    "    time.sleep(0.5)"
   ]
  },
  {
   "cell_type": "markdown",
   "id": "34c1582a-bffb-4dc3-bd80-9e8a311bd199",
   "metadata": {},
   "source": [
    "### the `file` argument"
   ]
  },
  {
   "cell_type": "code",
   "execution_count": null,
   "id": "9210a8b4-277a-480f-b31b-a981296ce141",
   "metadata": {},
   "outputs": [],
   "source": [
    "#### usage: distinguish stdout and stderr\n",
    "\n",
    "# BAD\n",
    "print(\"ERROR: something went wrong\")"
   ]
  },
  {
   "cell_type": "code",
   "execution_count": null,
   "id": "8eaff92a-a1fa-41ac-81b6-98a925e24da7",
   "metadata": {},
   "outputs": [],
   "source": [
    "# GOOD\n",
    "import sys\n",
    "\n",
    "print(\"ERROR: something went wrong\", file=sys.stderr)"
   ]
  }
 ],
 "metadata": {
  "interpreter": {
   "hash": "5a9b486196f7daf9df278992c11ef1b89a65baf507d628199b72f17bf0f2f616"
  },
  "kernelspec": {
   "display_name": "Python 3 (ipykernel)",
   "language": "python",
   "name": "python3"
  },
  "language_info": {
   "codemirror_mode": {
    "name": "ipython",
    "version": 3
   },
   "file_extension": ".py",
   "mimetype": "text/x-python",
   "name": "python",
   "nbconvert_exporter": "python",
   "pygments_lexer": "ipython3",
   "version": "3.10.0"
  }
 },
 "nbformat": 4,
 "nbformat_minor": 5
}
