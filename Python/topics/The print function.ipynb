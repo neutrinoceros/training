{
 "cells": [
  {
   "cell_type": "markdown",
   "id": "c0ae2696-fcbb-4d36-b1a0-53557f8158f9",
   "metadata": {},
   "source": [
    "# The print function\n",
    "\n",
    "Python 3.0 replaced the `print` statement with a `function`. It made us add parens everywhere (annoying), but did we get in return ?\n",
    "\n",
    "## the `end` argument"
   ]
  },
  {
   "cell_type": "code",
   "execution_count": 1,
   "id": "040eccfc-148a-44c1-bd46-631bde8b8b2a",
   "metadata": {},
   "outputs": [
    {
     "name": "stdout",
     "output_type": "stream",
     "text": [
      "1 / 20\n",
      "2 / 20\n",
      "3 / 20\n",
      "4 / 20\n",
      "5 / 20\n",
      "6 / 20\n",
      "7 / 20\n",
      "8 / 20\n",
      "9 / 20\n",
      "10 / 20\n",
      "11 / 20\n",
      "12 / 20\n",
      "13 / 20\n",
      "14 / 20\n",
      "15 / 20\n",
      "16 / 20\n",
      "17 / 20\n",
      "18 / 20\n",
      "19 / 20\n",
      "20 / 20\n"
     ]
    }
   ],
   "source": [
    "import time\n",
    "\n",
    "TOTAL = 20\n",
    "\n",
    "# BAD\n",
    "for i in range(1, TOTAL + 1):\n",
    "    print(f\"{i} / {TOTAL}\")\n",
    "    time.sleep(0.05)"
   ]
  },
  {
   "cell_type": "code",
   "execution_count": 2,
   "id": "62864fcc-8893-4f93-88ab-e5a8ca39f653",
   "metadata": {},
   "outputs": [
    {
     "name": "stdout",
     "output_type": "stream",
     "text": [
      "20 / 20\r"
     ]
    }
   ],
   "source": [
    "# GOOD\n",
    "for i in range(1, TOTAL + 1):\n",
    "    print(f\"{i} / {TOTAL}\", end=\"\\r\")\n",
    "    time.sleep(0.05)"
   ]
  },
  {
   "cell_type": "code",
   "execution_count": 3,
   "id": "2229b56f-0fc1-4725-a530-ca6ce4072267",
   "metadata": {},
   "outputs": [
    {
     "name": "stdout",
     "output_type": "stream",
     "text": [
      "rien ne sert de courir, il faut partir à point! "
     ]
    }
   ],
   "source": [
    "# progressive line printing\n",
    "message = \"rien ne sert de courir, il faut partir à point!\"\n",
    "\n",
    "for elem in message.split():\n",
    "    print(elem, end=\" \")\n",
    "    time.sleep(0.5)"
   ]
  },
  {
   "cell_type": "markdown",
   "id": "34c1582a-bffb-4dc3-bd80-9e8a311bd199",
   "metadata": {},
   "source": [
    "### the `file` argument"
   ]
  },
  {
   "cell_type": "code",
   "execution_count": 8,
   "id": "9210a8b4-277a-480f-b31b-a981296ce141",
   "metadata": {},
   "outputs": [
    {
     "name": "stdout",
     "output_type": "stream",
     "text": [
      "ERROR: something went wrong\n"
     ]
    }
   ],
   "source": [
    "#### usage: distinguish stdout and stderr\n",
    "\n",
    "# BAD\n",
    "print(\"ERROR: something went wrong\")"
   ]
  },
  {
   "cell_type": "code",
   "execution_count": 9,
   "id": "8eaff92a-a1fa-41ac-81b6-98a925e24da7",
   "metadata": {},
   "outputs": [
    {
     "name": "stderr",
     "output_type": "stream",
     "text": [
      "ERROR: something went wrong\n"
     ]
    }
   ],
   "source": [
    "# GOOD\n",
    "import sys\n",
    "\n",
    "print(\"ERROR: something went wrong\", file=sys.stderr)"
   ]
  },
  {
   "cell_type": "code",
   "execution_count": null,
   "id": "eeaa8cf4-08f4-474c-937d-289415e1b7c6",
   "metadata": {},
   "outputs": [],
   "source": []
  }
 ],
 "metadata": {
  "interpreter": {
   "hash": "5a9b486196f7daf9df278992c11ef1b89a65baf507d628199b72f17bf0f2f616"
  },
  "kernelspec": {
   "display_name": "Python 3 (ipykernel)",
   "language": "python",
   "name": "python3"
  },
  "language_info": {
   "codemirror_mode": {
    "name": "ipython",
    "version": 3
   },
   "file_extension": ".py",
   "mimetype": "text/x-python",
   "name": "python",
   "nbconvert_exporter": "python",
   "pygments_lexer": "ipython3",
   "version": "3.10.0"
  }
 },
 "nbformat": 4,
 "nbformat_minor": 5
}
